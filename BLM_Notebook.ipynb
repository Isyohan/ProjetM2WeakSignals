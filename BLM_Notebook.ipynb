{
 "cells": [
  {
   "cell_type": "code",
   "execution_count": 1,
   "metadata": {},
   "outputs": [
    {
     "name": "stdout",
     "output_type": "stream",
     "text": [
      "Requirement already satisfied: textblob in /Users/yohanismael/opt/anaconda3/lib/python3.9/site-packages (0.17.1)\n",
      "Requirement already satisfied: nltk>=3.1 in /Users/yohanismael/opt/anaconda3/lib/python3.9/site-packages (from textblob) (3.7)\n",
      "Requirement already satisfied: joblib in /Users/yohanismael/opt/anaconda3/lib/python3.9/site-packages (from nltk>=3.1->textblob) (1.2.0)\n",
      "Requirement already satisfied: regex>=2021.8.3 in /Users/yohanismael/opt/anaconda3/lib/python3.9/site-packages (from nltk>=3.1->textblob) (2022.3.15)\n",
      "Requirement already satisfied: click in /Users/yohanismael/opt/anaconda3/lib/python3.9/site-packages (from nltk>=3.1->textblob) (8.1.3)\n",
      "Requirement already satisfied: tqdm in /Users/yohanismael/opt/anaconda3/lib/python3.9/site-packages (from nltk>=3.1->textblob) (4.64.0)\n",
      "[nltk_data] Downloading package brown to\n",
      "[nltk_data]     /Users/yohanismael/nltk_data...\n",
      "[nltk_data]   Package brown is already up-to-date!\n",
      "[nltk_data] Downloading package punkt to\n",
      "[nltk_data]     /Users/yohanismael/nltk_data...\n",
      "[nltk_data]   Package punkt is already up-to-date!\n",
      "[nltk_data] Downloading package wordnet to\n",
      "[nltk_data]     /Users/yohanismael/nltk_data...\n",
      "[nltk_data]   Package wordnet is already up-to-date!\n",
      "[nltk_data] Downloading package averaged_perceptron_tagger to\n",
      "[nltk_data]     /Users/yohanismael/nltk_data...\n",
      "[nltk_data]   Package averaged_perceptron_tagger is already up-to-\n",
      "[nltk_data]       date!\n",
      "[nltk_data] Downloading package conll2000 to\n",
      "[nltk_data]     /Users/yohanismael/nltk_data...\n",
      "[nltk_data]   Package conll2000 is already up-to-date!\n",
      "[nltk_data] Downloading package movie_reviews to\n",
      "[nltk_data]     /Users/yohanismael/nltk_data...\n",
      "[nltk_data]   Package movie_reviews is already up-to-date!\n",
      "Finished.\n"
     ]
    }
   ],
   "source": [
    "!pip install -U textblob\n",
    "!python -m textblob.download_corpora"
   ]
  },
  {
   "cell_type": "code",
   "execution_count": 2,
   "metadata": {},
   "outputs": [],
   "source": [
    "import pandas as pd\n",
    "import numpy as np\n",
    "import matplotlib.pyplot as plt\n",
    "from textblob import TextBlob\n",
    "from datetime import datetime"
   ]
  },
  {
   "cell_type": "code",
   "execution_count": 3,
   "metadata": {},
   "outputs": [
    {
     "data": {
      "text/plain": [
       "Index(['tweet_id', 'tweet_created_dt', 'retweets', 'favorites', 'tweet_text'], dtype='object')"
      ]
     },
     "execution_count": 3,
     "metadata": {},
     "output_type": "execute_result"
    }
   ],
   "source": [
    "data=pd.read_csv('minnesota.csv')\n",
    "data.columns"
   ]
  },
  {
   "cell_type": "code",
   "execution_count": 4,
   "metadata": {},
   "outputs": [],
   "source": [
    "def str_to_timestamp(s):\n",
    "    out=[]\n",
    "\n",
    "    s2=str.split(s,'+')\n",
    "    s3=str.split(s2[0],' ')\n",
    "\n",
    "    s4=str.split(s3[0],'-')\n",
    "\n",
    "    s5=str.split(s3[1],':')\n",
    "    year=int(s4[0])\n",
    "    month=int(s4[1])\n",
    "    day=int(s4[2])\n",
    "    hour=int(s5[0])\n",
    "    minute=int(s5[1])\n",
    "    second=int(s5[2])\n",
    "\n",
    "    return(datetime(year=year,month=month,day=day,hour=hour,minute=minute,second=second).timestamp())"
   ]
  },
  {
   "cell_type": "code",
   "execution_count": 6,
   "metadata": {},
   "outputs": [
    {
     "name": "stdout",
     "output_type": "stream",
     "text": [
      "309069/309070"
     ]
    }
   ],
   "source": [
    "clean_data=data\n",
    "L_polarity=[]\n",
    "timestamps=[]\n",
    "for i in range(clean_data.shape[0]):\n",
    "\n",
    "    print('\\r'+str(i)+'/'+str(clean_data.shape[0]),end=\"\")\n",
    " \n",
    "    blob=TextBlob(clean_data['tweet_text'][i])\n",
    "    L_polarity.append(blob.sentiment.polarity)\n",
    "    timestamps.append(str_to_timestamp(clean_data['tweet_created_dt'][i]))\n",
    "\n",
    "array_polarity=np.asarray(L_polarity)\n",
    "clean_data.insert(clean_data.columns.shape[0], \"sentiment_polarity\", array_polarity, True)\n",
    "\n",
    "array_timestamps=np.asarray(timestamps)\n",
    "array_timestamps=array_timestamps-array_timestamps.min()\n",
    "clean_data.insert(clean_data.columns.shape[0], \"timestamps\", array_timestamps, True)"
   ]
  },
  {
   "cell_type": "code",
   "execution_count": 7,
   "metadata": {},
   "outputs": [
    {
     "data": {
      "text/plain": [
       "Index(['tweet_id', 'tweet_created_dt', 'retweets', 'favorites', 'tweet_text',\n",
       "       'sentiment_polarity', 'timestamps'],\n",
       "      dtype='object')"
      ]
     },
     "execution_count": 7,
     "metadata": {},
     "output_type": "execute_result"
    }
   ],
   "source": [
    "clean_data.columns"
   ]
  },
  {
   "cell_type": "code",
   "execution_count": 8,
   "metadata": {},
   "outputs": [
    {
     "data": {
      "image/png": "[encoded data removed]",
      "text/plain": [
       "<Figure size 432x288 with 1 Axes>"
      ]
     },
     "metadata": {
      "needs_background": "light"
     },
     "output_type": "display_data"
    }
   ],
   "source": [
    "plt.hist(clean_data['sentiment_polarity'],bins=11)\n",
    "plt.show()"
   ]
  },
  {
   "cell_type": "code",
   "execution_count": 9,
   "metadata": {},
   "outputs": [
    {
     "data": {
      "image/png": "[encoded data removed]",
      "text/plain": [
       "<Figure size 432x288 with 1 Axes>"
      ]
     },
     "metadata": {
      "needs_background": "light"
     },
     "output_type": "display_data"
    }
   ],
   "source": [
    "plt.hist(clean_data['timestamps'],bins='auto')\n",
    "plt.show()"
   ]
  },
  {
   "cell_type": "code",
   "execution_count": 21,
   "metadata": {},
   "outputs": [
    {
     "data": {
      "image/png": "[encoded data removed]",
      "text/plain": [
       "<Figure size 432x288 with 1 Axes>"
      ]
     },
     "metadata": {
      "needs_background": "light"
     },
     "output_type": "display_data"
    }
   ],
   "source": [
    "plt.plot(range(len(clean_data['timestamps'])),clean_data['timestamps'])\n",
    "plt.show()"
   ]
  }
 ],
 "metadata": {
  "kernelspec": {
   "display_name": "base",
   "language": "python",
   "name": "python3"
  },
  "language_info": {
   "codemirror_mode": {
    "name": "ipython",
    "version": 3
   },
   "file_extension": ".py",
   "mimetype": "text/x-python",
   "name": "python",
   "nbconvert_exporter": "python",
   "pygments_lexer": "ipython3",
   "version": "3.9.12"
  },
  "orig_nbformat": 4,
  "vscode": {
   "interpreter": {
    "hash": "7339996d7815a0ae30850c182ba9bbc0a1cb89e61563a0ae1819bddf17b67295"
   }
  }
 },
 "nbformat": 4,
 "nbformat_minor": 2
}
