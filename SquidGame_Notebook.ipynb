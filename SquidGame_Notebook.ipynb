{
 "cells": [
  {
   "cell_type": "code",
   "execution_count": 1,
   "metadata": {},
   "outputs": [
    {
     "name": "stdout",
     "output_type": "stream",
     "text": [
      "Requirement already satisfied: textblob in /Users/yohanismael/opt/anaconda3/envs/tf/lib/python3.10/site-packages (0.17.1)\n",
      "Requirement already satisfied: nltk>=3.1 in /Users/yohanismael/opt/anaconda3/envs/tf/lib/python3.10/site-packages (from textblob) (3.8)\n",
      "Requirement already satisfied: regex>=2021.8.3 in /Users/yohanismael/opt/anaconda3/envs/tf/lib/python3.10/site-packages (from nltk>=3.1->textblob) (2022.10.31)\n",
      "Requirement already satisfied: joblib in /Users/yohanismael/opt/anaconda3/envs/tf/lib/python3.10/site-packages (from nltk>=3.1->textblob) (1.2.0)\n",
      "Requirement already satisfied: tqdm in /Users/yohanismael/opt/anaconda3/envs/tf/lib/python3.10/site-packages (from nltk>=3.1->textblob) (4.64.1)\n",
      "Requirement already satisfied: click in /Users/yohanismael/opt/anaconda3/envs/tf/lib/python3.10/site-packages (from nltk>=3.1->textblob) (8.0.4)\n",
      "[nltk_data] Downloading package brown to\n",
      "[nltk_data]     /Users/yohanismael/nltk_data...\n",
      "[nltk_data]   Package brown is already up-to-date!\n",
      "[nltk_data] Downloading package punkt to\n",
      "[nltk_data]     /Users/yohanismael/nltk_data...\n",
      "[nltk_data]   Package punkt is already up-to-date!\n",
      "[nltk_data] Downloading package wordnet to\n",
      "[nltk_data]     /Users/yohanismael/nltk_data...\n",
      "[nltk_data]   Package wordnet is already up-to-date!\n",
      "[nltk_data] Downloading package averaged_perceptron_tagger to\n",
      "[nltk_data]     /Users/yohanismael/nltk_data...\n",
      "[nltk_data]   Package averaged_perceptron_tagger is already up-to-\n",
      "[nltk_data]       date!\n",
      "[nltk_data] Downloading package conll2000 to\n",
      "[nltk_data]     /Users/yohanismael/nltk_data...\n",
      "[nltk_data]   Package conll2000 is already up-to-date!\n",
      "[nltk_data] Downloading package movie_reviews to\n",
      "[nltk_data]     /Users/yohanismael/nltk_data...\n",
      "[nltk_data]   Package movie_reviews is already up-to-date!\n",
      "Finished.\n"
     ]
    }
   ],
   "source": [
    "!pip install -U textblob\n",
    "!python -m textblob.download_corpora"
   ]
  },
  {
   "cell_type": "code",
   "execution_count": 2,
   "metadata": {},
   "outputs": [],
   "source": [
    "import pandas as pd\n",
    "import numpy as np\n",
    "import matplotlib.pyplot as plt\n",
    "from textblob import TextBlob\n",
    "from datetime import datetime"
   ]
  },
  {
   "cell_type": "code",
   "execution_count": 3,
   "metadata": {},
   "outputs": [
    {
     "data": {
      "text/plain": [
       "Index(['user_name', 'user_location', 'user_description', 'user_created',\n",
       "       'user_followers', 'user_friends', 'user_favourites', 'user_verified',\n",
       "       'date', 'text', 'source', 'is_retweet'],\n",
       "      dtype='object')"
      ]
     },
     "execution_count": 3,
     "metadata": {},
     "output_type": "execute_result"
    }
   ],
   "source": [
    "data=pd.read_csv('tweets_v8.csv')\n",
    "data.columns"
   ]
  },
  {
   "cell_type": "code",
   "execution_count": 103,
   "metadata": {},
   "outputs": [],
   "source": [
    "def str_to_timestamp(s):\n",
    "    out=[]\n",
    "\n",
    "    s2=str.split(s,'+')\n",
    "    s3=str.split(s2[0],' ')\n",
    "\n",
    "    s4=str.split(s3[0],'-')\n",
    "\n",
    "    s5=str.split(s3[1],':')\n",
    "    year=int(s4[0])\n",
    "    month=int(s4[1])\n",
    "    day=int(s4[2])\n",
    "    hour=int(s5[0])\n",
    "    minute=int(s5[1])\n",
    "    second=int(s5[2])\n",
    "\n",
    "    return(datetime(year=year,month=month,day=day,hour=hour,minute=minute,second=second).timestamp())"
   ]
  },
  {
   "cell_type": "code",
   "execution_count": 112,
   "metadata": {},
   "outputs": [],
   "source": [
    "clean_data=data[['user_followers', 'user_friends', 'user_favourites', 'user_verified','date', 'text']]\n",
    "L_polarity=[]\n",
    "timestamps=[]\n",
    "for i in range(clean_data.shape[0]):\n",
    "    blob=TextBlob(clean_data['text'][i])\n",
    "    L_polarity.append(blob.sentiment.polarity)\n",
    "    timestamps.append(str_to_timestamp(clean_data['date'][i]))\n",
    "\n",
    "array_polarity=np.asarray(L_polarity)\n",
    "clean_data.insert(clean_data.columns.shape[0], \"sentiment_polarity\", array_polarity, True)\n",
    "\n",
    "array_timestamps=np.asarray(timestamps)\n",
    "array_timestamps=array_timestamps-array_timestamps.min()\n",
    "clean_data.insert(clean_data.columns.shape[0], \"timestamps\", array_timestamps, True)"
   ]
  },
  {
   "cell_type": "code",
   "execution_count": 114,
   "metadata": {},
   "outputs": [
    {
     "data": {
      "text/plain": [
       "Index(['user_followers', 'user_friends', 'user_favourites', 'user_verified',\n",
       "       'date', 'text', 'sentiment_polarity', 'timestamps'],\n",
       "      dtype='object')"
      ]
     },
     "execution_count": 114,
     "metadata": {},
     "output_type": "execute_result"
    }
   ],
   "source": [
    "clean_data.columns"
   ]
  },
  {
   "cell_type": "code",
   "execution_count": 115,
   "metadata": {},
   "outputs": [
    {
     "data": {
      "text/plain": [
       "(array([  437.,   702.,  2135.,  7387.,  6605., 34683., 11798.,  6243.,\n",
       "         5566.,  2730.,  1733.]),\n",
       " array([-1.        , -0.81818182, -0.63636364, -0.45454545, -0.27272727,\n",
       "        -0.09090909,  0.09090909,  0.27272727,  0.45454545,  0.63636364,\n",
       "         0.81818182,  1.        ]),\n",
       " <BarContainer object of 11 artists>)"
      ]
     },
     "execution_count": 115,
     "metadata": {},
     "output_type": "execute_result"
    },
    {
     "data": {
      "image/png": "[encoded data removed]",
      "text/plain": [
       "<Figure size 640x480 with 1 Axes>"
      ]
     },
     "metadata": {},
     "output_type": "display_data"
    }
   ],
   "source": [
    "plt.hist(clean_data['sentiment_polarity'],bins=11)"
   ]
  },
  {
   "cell_type": "code",
   "execution_count": 123,
   "metadata": {},
   "outputs": [
    {
     "data": {
      "text/html": [
       "<div>\n",
       "<style scoped>\n",
       "    .dataframe tbody tr th:only-of-type {\n",
       "        vertical-align: middle;\n",
       "    }\n",
       "\n",
       "    .dataframe tbody tr th {\n",
       "        vertical-align: top;\n",
       "    }\n",
       "\n",
       "    .dataframe thead th {\n",
       "        text-align: right;\n",
       "    }\n",
       "</style>\n",
       "<table border=\"1\" class=\"dataframe\">\n",
       "  <thead>\n",
       "    <tr style=\"text-align: right;\">\n",
       "      <th></th>\n",
       "      <th>user_followers</th>\n",
       "      <th>user_friends</th>\n",
       "      <th>user_favourites</th>\n",
       "      <th>user_verified</th>\n",
       "      <th>date</th>\n",
       "      <th>text</th>\n",
       "      <th>sentiment_polarity</th>\n",
       "      <th>timestamps</th>\n",
       "    </tr>\n",
       "  </thead>\n",
       "  <tbody>\n",
       "    <tr>\n",
       "      <th>0</th>\n",
       "      <td>581</td>\n",
       "      <td>1035</td>\n",
       "      <td>8922</td>\n",
       "      <td>False</td>\n",
       "      <td>2021-10-06 12:05:38+00:00</td>\n",
       "      <td>When life hits and the same time poverty strik...</td>\n",
       "      <td>-0.200</td>\n",
       "      <td>90014.0</td>\n",
       "    </tr>\n",
       "    <tr>\n",
       "      <th>1</th>\n",
       "      <td>741</td>\n",
       "      <td>730</td>\n",
       "      <td>8432</td>\n",
       "      <td>False</td>\n",
       "      <td>2021-10-06 12:05:22+00:00</td>\n",
       "      <td>That marble episode of #SquidGame  ruined me. 😭😭😭</td>\n",
       "      <td>0.000</td>\n",
       "      <td>89998.0</td>\n",
       "    </tr>\n",
       "    <tr>\n",
       "      <th>2</th>\n",
       "      <td>562</td>\n",
       "      <td>1197</td>\n",
       "      <td>62732</td>\n",
       "      <td>False</td>\n",
       "      <td>2021-10-06 12:05:22+00:00</td>\n",
       "      <td>#Squidgame time</td>\n",
       "      <td>0.000</td>\n",
       "      <td>89998.0</td>\n",
       "    </tr>\n",
       "    <tr>\n",
       "      <th>3</th>\n",
       "      <td>3</td>\n",
       "      <td>277</td>\n",
       "      <td>1341</td>\n",
       "      <td>False</td>\n",
       "      <td>2021-10-06 12:05:04+00:00</td>\n",
       "      <td>//Blood on 1st slide\\nI'm joining the squidgam...</td>\n",
       "      <td>-0.200</td>\n",
       "      <td>89980.0</td>\n",
       "    </tr>\n",
       "    <tr>\n",
       "      <th>4</th>\n",
       "      <td>330</td>\n",
       "      <td>152</td>\n",
       "      <td>2278</td>\n",
       "      <td>False</td>\n",
       "      <td>2021-10-06 12:05:00+00:00</td>\n",
       "      <td>The two first games, players were killed by th...</td>\n",
       "      <td>-0.225</td>\n",
       "      <td>89976.0</td>\n",
       "    </tr>\n",
       "    <tr>\n",
       "      <th>...</th>\n",
       "      <td>...</td>\n",
       "      <td>...</td>\n",
       "      <td>...</td>\n",
       "      <td>...</td>\n",
       "      <td>...</td>\n",
       "      <td>...</td>\n",
       "      <td>...</td>\n",
       "      <td>...</td>\n",
       "    </tr>\n",
       "    <tr>\n",
       "      <th>80014</th>\n",
       "      <td>12</td>\n",
       "      <td>49</td>\n",
       "      <td>7</td>\n",
       "      <td>False</td>\n",
       "      <td>2021-10-28 13:46:26+00:00</td>\n",
       "      <td>Yes Yes Yes\\n\\n@ArianaGrande\\n#Squidgame\\n htt...</td>\n",
       "      <td>0.000</td>\n",
       "      <td>1996862.0</td>\n",
       "    </tr>\n",
       "    <tr>\n",
       "      <th>80015</th>\n",
       "      <td>6907</td>\n",
       "      <td>0</td>\n",
       "      <td>0</td>\n",
       "      <td>False</td>\n",
       "      <td>2021-10-28 13:45:38+00:00</td>\n",
       "      <td>SQUID GAME was reviewed on RevAAA #squidgame \\...</td>\n",
       "      <td>-0.400</td>\n",
       "      <td>1996814.0</td>\n",
       "    </tr>\n",
       "    <tr>\n",
       "      <th>80016</th>\n",
       "      <td>152</td>\n",
       "      <td>807</td>\n",
       "      <td>593</td>\n",
       "      <td>False</td>\n",
       "      <td>2021-10-28 13:45:00+00:00</td>\n",
       "      <td>Back &amp;amp; Forth Between ‘Squid Game’ Creator ...</td>\n",
       "      <td>-0.250</td>\n",
       "      <td>1996776.0</td>\n",
       "    </tr>\n",
       "    <tr>\n",
       "      <th>80017</th>\n",
       "      <td>8048</td>\n",
       "      <td>8822</td>\n",
       "      <td>68980</td>\n",
       "      <td>False</td>\n",
       "      <td>2021-10-28 13:44:57+00:00</td>\n",
       "      <td>So what sort of games do you think they'll pla...</td>\n",
       "      <td>0.000</td>\n",
       "      <td>1996773.0</td>\n",
       "    </tr>\n",
       "    <tr>\n",
       "      <th>80018</th>\n",
       "      <td>16310</td>\n",
       "      <td>14368</td>\n",
       "      <td>108325</td>\n",
       "      <td>False</td>\n",
       "      <td>2021-10-28 13:44:38+00:00</td>\n",
       "      <td>@venancio_taylor @tracklist cala a boca swifte...</td>\n",
       "      <td>0.000</td>\n",
       "      <td>1996754.0</td>\n",
       "    </tr>\n",
       "  </tbody>\n",
       "</table>\n",
       "<p>80019 rows × 8 columns</p>\n",
       "</div>"
      ],
      "text/plain": [
       "       user_followers  user_friends  user_favourites  user_verified  \\\n",
       "0                 581          1035             8922          False   \n",
       "1                 741           730             8432          False   \n",
       "2                 562          1197            62732          False   \n",
       "3                   3           277             1341          False   \n",
       "4                 330           152             2278          False   \n",
       "...               ...           ...              ...            ...   \n",
       "80014              12            49                7          False   \n",
       "80015            6907             0                0          False   \n",
       "80016             152           807              593          False   \n",
       "80017            8048          8822            68980          False   \n",
       "80018           16310         14368           108325          False   \n",
       "\n",
       "                            date  \\\n",
       "0      2021-10-06 12:05:38+00:00   \n",
       "1      2021-10-06 12:05:22+00:00   \n",
       "2      2021-10-06 12:05:22+00:00   \n",
       "3      2021-10-06 12:05:04+00:00   \n",
       "4      2021-10-06 12:05:00+00:00   \n",
       "...                          ...   \n",
       "80014  2021-10-28 13:46:26+00:00   \n",
       "80015  2021-10-28 13:45:38+00:00   \n",
       "80016  2021-10-28 13:45:00+00:00   \n",
       "80017  2021-10-28 13:44:57+00:00   \n",
       "80018  2021-10-28 13:44:38+00:00   \n",
       "\n",
       "                                                    text  sentiment_polarity  \\\n",
       "0      When life hits and the same time poverty strik...              -0.200   \n",
       "1      That marble episode of #SquidGame  ruined me. 😭😭😭               0.000   \n",
       "2                                        #Squidgame time               0.000   \n",
       "3      //Blood on 1st slide\\nI'm joining the squidgam...              -0.200   \n",
       "4      The two first games, players were killed by th...              -0.225   \n",
       "...                                                  ...                 ...   \n",
       "80014  Yes Yes Yes\\n\\n@ArianaGrande\\n#Squidgame\\n htt...               0.000   \n",
       "80015  SQUID GAME was reviewed on RevAAA #squidgame \\...              -0.400   \n",
       "80016  Back &amp; Forth Between ‘Squid Game’ Creator ...              -0.250   \n",
       "80017  So what sort of games do you think they'll pla...               0.000   \n",
       "80018  @venancio_taylor @tracklist cala a boca swifte...               0.000   \n",
       "\n",
       "       timestamps  \n",
       "0         90014.0  \n",
       "1         89998.0  \n",
       "2         89998.0  \n",
       "3         89980.0  \n",
       "4         89976.0  \n",
       "...           ...  \n",
       "80014   1996862.0  \n",
       "80015   1996814.0  \n",
       "80016   1996776.0  \n",
       "80017   1996773.0  \n",
       "80018   1996754.0  \n",
       "\n",
       "[80019 rows x 8 columns]"
      ]
     },
     "execution_count": 123,
     "metadata": {},
     "output_type": "execute_result"
    }
   ],
   "source": [
    "clean_data['timestamps'].argmin()\n",
    "clean_data"
   ]
  },
  {
   "cell_type": "code",
   "execution_count": 125,
   "metadata": {},
   "outputs": [
    {
     "data": {
      "text/plain": [
       "(array([142., 135., 202., ...,  80.,  90.,  74.]),\n",
       " array([0.00000000e+00, 2.31325574e+03, 4.62651149e+03, ...,\n",
       "        2.31094249e+06, 2.31325574e+06, 2.31556900e+06]),\n",
       " <BarContainer object of 1001 artists>)"
      ]
     },
     "execution_count": 125,
     "metadata": {},
     "output_type": "execute_result"
    },
    {
     "data": {
      "image/png": "[encoded data removed]",
      "text/plain": [
       "<Figure size 640x480 with 1 Axes>"
      ]
     },
     "metadata": {},
     "output_type": "display_data"
    }
   ],
   "source": [
    "plt.hist(clean_data['timestamps'],bins=1001)"
   ]
  },
  {
   "cell_type": "code",
   "execution_count": null,
   "metadata": {},
   "outputs": [],
   "source": []
  }
 ],
 "metadata": {
  "kernelspec": {
   "display_name": "tf",
   "language": "python",
   "name": "python3"
  },
  "language_info": {
   "codemirror_mode": {
    "name": "ipython",
    "version": 3
   },
   "file_extension": ".py",
   "mimetype": "text/x-python",
   "name": "python",
   "nbconvert_exporter": "python",
   "pygments_lexer": "ipython3",
   "version": "3.10.4 (main, Mar 31 2022, 03:38:35) [Clang 12.0.0 ]"
  },
  "orig_nbformat": 4,
  "vscode": {
   "interpreter": {
    "hash": "bc86394a1cae277c90751110379fc159724fae2b8c50713deab7b46140911b32"
   }
  }
 },
 "nbformat": 4,
 "nbformat_minor": 2
}
